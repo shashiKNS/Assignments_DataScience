{
 "cells": [
  {
   "cell_type": "markdown",
   "id": "46385635",
   "metadata": {},
   "source": [
    "### TOPIC: Python Basics Variable"
   ]
  },
  {
   "cell_type": "markdown",
   "id": "5ed916f4",
   "metadata": {},
   "source": [
    "#### 1. Declare two variables, `x` and `y`, and assign them integer values. Swap the values of these variables without using any temporary variable."
   ]
  },
  {
   "cell_type": "code",
   "execution_count": 1,
   "id": "078df2fb",
   "metadata": {},
   "outputs": [
    {
     "name": "stdout",
     "output_type": "stream",
     "text": [
      "X value after swap: 75\n",
      "\n",
      "Y value after swap: 55\n"
     ]
    }
   ],
   "source": [
    "#Assigning the integer values to the variables. \n",
    "x = 55\n",
    "y = 75\n",
    "\n",
    "# Swapping the values.\n",
    "x, y = y, x\n",
    "\n",
    "#printing the values after swap.\n",
    "print (\"X value after swap:\", x)\n",
    "print (\"\\nY value after swap:\", y)"
   ]
  },
  {
   "cell_type": "markdown",
   "id": "74fdd599",
   "metadata": {},
   "source": [
    "#### 2. Create a program that calculates the area of a rectangle. Take the length and width as inputs from the user and store them in variables. Calculate and display the area."
   ]
  },
  {
   "cell_type": "code",
   "execution_count": 3,
   "id": "dae4ea14",
   "metadata": {},
   "outputs": [
    {
     "name": "stdout",
     "output_type": "stream",
     "text": [
      "Enter the length of rectangle:25\n",
      "Enter the width of rectangle:25\n",
      "\n",
      "Area of the rectangle is: 625\n"
     ]
    }
   ],
   "source": [
    "#Collecting the user input for length and width using input() fuction and storing them in the variables.\n",
    "length = input(\"Enter the length of rectangle:\")\n",
    "width = input(\"Enter the width of rectangle:\")\n",
    "\n",
    "#Converting the user input data into integer using int() and calculating the area of rectangle. \n",
    "area_of_rectangle = int(length)*int(width)\n",
    "\n",
    "#Printing the total area of the rectangle.\n",
    "print(\"\\nArea of the rectangle is:\", area_of_rectangle)"
   ]
  },
  {
   "cell_type": "markdown",
   "id": "bac127bc",
   "metadata": {},
   "source": [
    "#### 3. Write a Python program that converts temperatures from Celsius to Fahrenheit. Take the temperature in Celsius as input, store it in a variable, convert it to Fahrenheit, and display the result."
   ]
  },
  {
   "cell_type": "code",
   "execution_count": 4,
   "id": "e8e5c00a",
   "metadata": {},
   "outputs": [
    {
     "name": "stdout",
     "output_type": "stream",
     "text": [
      "Enter temperature in deg C: 22\n",
      "Temperature in deg F is:  71.6\n"
     ]
    }
   ],
   "source": [
    "\"\"\"Collecting the user input for temperature using input() fuction, \n",
    "converting input into integer using int(), \n",
    "and storing them in the variables.\"\"\"\n",
    "\n",
    "user_input = int(input(\"Enter temperature in deg C: \"))\n",
    "\n",
    "#Converting user input from deg C to deg F. \n",
    "x=(user_input*(9/5)+32)\n",
    "\n",
    "#Printing temperature value in deg F.\n",
    "print(\"Temperature in deg F is: \", x)"
   ]
  },
  {
   "cell_type": "markdown",
   "id": "50ca7fb1",
   "metadata": {},
   "source": [
    "### TOPIC: String Based Questions"
   ]
  },
  {
   "cell_type": "markdown",
   "id": "eb6353ee",
   "metadata": {},
   "source": [
    "#### 1. Write a Python program that takes a string as input and prints the length of the string."
   ]
  },
  {
   "cell_type": "code",
   "execution_count": 5,
   "id": "6923f42c",
   "metadata": {},
   "outputs": [
    {
     "name": "stdout",
     "output_type": "stream",
     "text": [
      "Enter the sentence that need to count the letters:shashi\n",
      "Length of your sentence is: 6\n"
     ]
    }
   ],
   "source": [
    "#Collecting the user input for temperature using input() fuction.\n",
    "user_input = input(\"Enter the sentence that need to count the letters:\")\n",
    "\n",
    "#Using len() function to find length of the user input.\n",
    "print(\"Length of your sentence is:\", len(user_input))"
   ]
  },
  {
   "cell_type": "markdown",
   "id": "8f525e78",
   "metadata": {},
   "source": [
    "#### 2. Create a program that takes a sentence from the user and counts the number of vowels (a, e, i, o, u) in the string."
   ]
  },
  {
   "cell_type": "code",
   "execution_count": 6,
   "id": "a9c07e65",
   "metadata": {},
   "outputs": [
    {
     "name": "stdout",
     "output_type": "stream",
     "text": [
      "Enter string:shashi\n",
      "Number of vowels are: 2\n"
     ]
    }
   ],
   "source": [
    "#Collecting the user input\n",
    "string=input(\"Enter string:\")\n",
    "vowels=0\n",
    "\n",
    "for i in string:\n",
    "#using IF condition checking the string characters are vowel or not.\n",
    "      if(i=='a' or i=='e' or i=='i' or i=='o' or i=='u' or i=='A' or i=='E' or i=='I' or i=='O' or i=='U'):\n",
    "            vowels=vowels+1\n",
    "print(\"Number of vowels are:\", vowels)"
   ]
  },
  {
   "cell_type": "markdown",
   "id": "059d6330",
   "metadata": {},
   "source": [
    "#### 3. Given a string, reverse the order of characters using string slicing and print the reversed string."
   ]
  },
  {
   "cell_type": "code",
   "execution_count": 7,
   "id": "4ed92e87",
   "metadata": {},
   "outputs": [
    {
     "name": "stdout",
     "output_type": "stream",
     "text": [
      "ecneicsataD ni ssalc tsrif ym si sihT\n"
     ]
    }
   ],
   "source": [
    "string = \"This is my first class in Datascience\"\n",
    "\n",
    "#Reversing the string to reverse order. \n",
    "print(string[::-1])"
   ]
  },
  {
   "cell_type": "markdown",
   "id": "adf0f35c",
   "metadata": {},
   "source": [
    "#### 4. Write a program that takes a string as input and checks if it is a palindrome (reads the same forwards and backwards)."
   ]
  },
  {
   "cell_type": "code",
   "execution_count": 8,
   "id": "03aff035",
   "metadata": {},
   "outputs": [
    {
     "name": "stdout",
     "output_type": "stream",
     "text": [
      "Enter the word: madam\n",
      "madam is palindrome word\n"
     ]
    }
   ],
   "source": [
    "#Collecting the user input to find word is palindrome or not.\n",
    "user_input = str(input(\"Enter the word: \"))\n",
    "\n",
    "#user input reversed to compare\n",
    "reverse_word = user_input[::-1]\n",
    "\n",
    "#Used if condition to compare reverse_word is same as user_input or not.\n",
    "if reverse_word == user_input:\n",
    "    print(user_input, \"is palindrome word\")\n",
    "else:\n",
    "    print(user_input, \"is not palindrome word\")"
   ]
  },
  {
   "cell_type": "markdown",
   "id": "249dc923",
   "metadata": {},
   "source": [
    "#### 5. Create a program that takes a string as input and removes all the spaces from it. Print the modified string without spaces."
   ]
  },
  {
   "cell_type": "code",
   "execution_count": 9,
   "id": "d017f15c",
   "metadata": {},
   "outputs": [
    {
     "name": "stdout",
     "output_type": "stream",
     "text": [
      "Enter the sentance to remove spaces:PW SKILL AND DATA SCIENCE \n",
      "PWSKILLANDDATASCIENCE\n"
     ]
    }
   ],
   "source": [
    "string = str(input(\"Enter the sentance to remove spaces:\"))\n",
    "\n",
    "print(string.replace(\" \", \"\"))"
   ]
  },
  {
   "cell_type": "code",
   "execution_count": null,
   "id": "8f3d1be6",
   "metadata": {},
   "outputs": [],
   "source": []
  },
  {
   "cell_type": "code",
   "execution_count": null,
   "id": "ee604b07",
   "metadata": {},
   "outputs": [],
   "source": []
  }
 ],
 "metadata": {
  "kernelspec": {
   "display_name": "Python 3 (ipykernel)",
   "language": "python",
   "name": "python3"
  },
  "language_info": {
   "codemirror_mode": {
    "name": "ipython",
    "version": 3
   },
   "file_extension": ".py",
   "mimetype": "text/x-python",
   "name": "python",
   "nbconvert_exporter": "python",
   "pygments_lexer": "ipython3",
   "version": "3.11.2"
  }
 },
 "nbformat": 4,
 "nbformat_minor": 5
}
